{
 "cells": [
  {
   "cell_type": "code",
   "execution_count": 2,
   "id": "235c87e8",
   "metadata": {},
   "outputs": [
    {
     "ename": "SyntaxError",
     "evalue": "invalid syntax (1187598556.py, line 26)",
     "output_type": "error",
     "traceback": [
      "\u001b[1;36m  File \u001b[1;32m\"C:\\Users\\S. Hemalatha\\AppData\\Local\\Temp\\ipykernel_11248\\1187598556.py\"\u001b[1;36m, line \u001b[1;32m26\u001b[0m\n\u001b[1;33m    os.chdir(C:\\Users\\S. Hemalatha\\Desktop\\face recognition by python code)\u001b[0m\n\u001b[1;37m              ^\u001b[0m\n\u001b[1;31mSyntaxError\u001b[0m\u001b[1;31m:\u001b[0m invalid syntax\n"
     ]
    }
   ],
   "source": [
    "from datetime import datetime\n",
    "import face_recognition\n",
    "import cv2\n",
    "import os\n",
    "import numpy as np\n",
    "import csv\n",
    "\n",
    "video_capture = cv2.VideoCapture(0)\n",
    "jobs_image = face_recognition.load_image_file(\"WhatsApp Image 2023-08-16 at 20.28.02.jpg\")\n",
    "jobs_encoding = face_recognition.face_encodings(jobs_image)[0]\n",
    "vijaya_image = face_recognition.load_image_file(\"vijaya.jpg\")\n",
    "vijaya_encoding = face_recognition.face_encodings(vijaya_image)[0]\n",
    "\n",
    "known_face_encodings = [jobs_encoding, vijaya_encoding]\n",
    "known_face_names = [\"hemalatha\", \"vijaya\"]\n",
    "students = known_face_names.copy()\n",
    "\n",
    "face_locations = []\n",
    "face_encodings = []\n",
    "face_names = []\n",
    "\n",
    "s = True\n",
    "\n",
    "now = datetime.now()\n",
    "current_date = now.strftime(\"%Y-%m-%d\")\n",
    "#os.chdir(C:\\Users\\S. Hemalatha\\Desktop\\face recognition by python code)\n",
    "f = open(current_date + '.csv', 'w+', newline='')\n",
    "csv_writer = csv.writer(f)\n",
    "\n",
    "while True:\n",
    "    _, frame = video_capture.read()\n",
    "    small_frame = cv2.resize(frame, (0, 0), fx=0.25, fy=0.25)\n",
    "    rgb_small_frame = small_frame[:, :, ::-1]\n",
    "\n",
    "    if s:\n",
    "        face_locations = face_recognition.face_locations(rgb_small_frame)\n",
    "        face_encodings = face_recognition.face_encodings(rgb_small_frame, face_locations)\n",
    "        face_names = []\n",
    "\n",
    "        for face_encoding in face_encodings:\n",
    "            matches = face_recognition.compare_faces(known_face_encodings, face_encoding)\n",
    "            name = \"\"\n",
    "            face_distances = face_recognition.face_distance(known_face_encodings, face_encoding)\n",
    "            best_match_index = np.argmin(face_distances)\n",
    "\n",
    "            if matches[best_match_index]:\n",
    "                name = known_face_names[best_match_index]\n",
    "\n",
    "            face_names.append(name)\n",
    "\n",
    "            if name in students:\n",
    "                students.remove(name)\n",
    "                print(students)\n",
    "                current_time = now.strftime(\"%H-%M-%S\")\n",
    "                csv_writer.writerow([name, current_time])\n",
    "    \n",
    "    cv2.imshow(\"attendance system\", frame)\n",
    "    \n",
    "    if cv2.waitKey(1) & 0xFF == ord('q'):\n",
    "        break\n",
    "\n",
    "video_capture.release()\n",
    "cv2.destroyAllWindows()\n",
    "f.close()\n"
   ]
  },
  {
   "cell_type": "code",
   "execution_count": null,
   "id": "7a9148cf",
   "metadata": {},
   "outputs": [],
   "source": []
  }
 ],
 "metadata": {
  "kernelspec": {
   "display_name": "Python 3 (ipykernel)",
   "language": "python",
   "name": "python3"
  },
  "language_info": {
   "codemirror_mode": {
    "name": "ipython",
    "version": 3
   },
   "file_extension": ".py",
   "mimetype": "text/x-python",
   "name": "python",
   "nbconvert_exporter": "python",
   "pygments_lexer": "ipython3",
   "version": "3.9.13"
  }
 },
 "nbformat": 4,
 "nbformat_minor": 5
}
